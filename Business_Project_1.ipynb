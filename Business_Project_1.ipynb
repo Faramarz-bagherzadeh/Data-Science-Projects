{
 "cells": [
  {
   "cell_type": "code",
   "execution_count": 1,
   "metadata": {},
   "outputs": [],
   "source": [
    "import numpy as np\n",
    "import matplotlib.pyplot as plt\n",
    "import tensorflow as tf\n",
    "from sklearn import preprocessing, model_selection\n",
    "import pandas as pd\n",
    "import seaborn as sns\n",
    "import keras"
   ]
  },
  {
   "cell_type": "code",
   "execution_count": 2,
   "metadata": {},
   "outputs": [],
   "source": [
    "# importin the dataset\n",
    "data=pd.read_csv('bb.csv')"
   ]
  },
  {
   "cell_type": "code",
   "execution_count": 3,
   "metadata": {},
   "outputs": [
    {
     "data": {
      "text/html": [
       "<div>\n",
       "<style scoped>\n",
       "    .dataframe tbody tr th:only-of-type {\n",
       "        vertical-align: middle;\n",
       "    }\n",
       "\n",
       "    .dataframe tbody tr th {\n",
       "        vertical-align: top;\n",
       "    }\n",
       "\n",
       "    .dataframe thead th {\n",
       "        text-align: right;\n",
       "    }\n",
       "</style>\n",
       "<table border=\"1\" class=\"dataframe\">\n",
       "  <thead>\n",
       "    <tr style=\"text-align: right;\">\n",
       "      <th></th>\n",
       "      <th>00994</th>\n",
       "      <th>1620</th>\n",
       "      <th>1620.1</th>\n",
       "      <th>19.73</th>\n",
       "      <th>19.73.1</th>\n",
       "      <th>1</th>\n",
       "      <th>10.00</th>\n",
       "      <th>0.99</th>\n",
       "      <th>1603.80</th>\n",
       "      <th>5</th>\n",
       "      <th>92</th>\n",
       "      <th>0</th>\n",
       "    </tr>\n",
       "  </thead>\n",
       "  <tbody>\n",
       "    <tr>\n",
       "      <th>0</th>\n",
       "      <td>1143</td>\n",
       "      <td>2160.0</td>\n",
       "      <td>2160</td>\n",
       "      <td>5.33</td>\n",
       "      <td>5.33</td>\n",
       "      <td>0</td>\n",
       "      <td>8.91</td>\n",
       "      <td>0.00</td>\n",
       "      <td>0.0</td>\n",
       "      <td>0</td>\n",
       "      <td>0</td>\n",
       "      <td>0</td>\n",
       "    </tr>\n",
       "    <tr>\n",
       "      <th>1</th>\n",
       "      <td>2059</td>\n",
       "      <td>2160.0</td>\n",
       "      <td>2160</td>\n",
       "      <td>5.33</td>\n",
       "      <td>5.33</td>\n",
       "      <td>0</td>\n",
       "      <td>8.91</td>\n",
       "      <td>0.00</td>\n",
       "      <td>0.0</td>\n",
       "      <td>0</td>\n",
       "      <td>388</td>\n",
       "      <td>0</td>\n",
       "    </tr>\n",
       "    <tr>\n",
       "      <th>2</th>\n",
       "      <td>2882</td>\n",
       "      <td>1620.0</td>\n",
       "      <td>1620</td>\n",
       "      <td>5.96</td>\n",
       "      <td>5.96</td>\n",
       "      <td>0</td>\n",
       "      <td>8.91</td>\n",
       "      <td>0.42</td>\n",
       "      <td>680.4</td>\n",
       "      <td>1</td>\n",
       "      <td>129</td>\n",
       "      <td>0</td>\n",
       "    </tr>\n",
       "  </tbody>\n",
       "</table>\n",
       "</div>"
      ],
      "text/plain": [
       "   00994    1620  1620.1  19.73  19.73.1  1  10.00  0.99  1603.80  5   92  0\n",
       "0   1143  2160.0    2160   5.33     5.33  0   8.91  0.00      0.0  0    0  0\n",
       "1   2059  2160.0    2160   5.33     5.33  0   8.91  0.00      0.0  0  388  0\n",
       "2   2882  1620.0    1620   5.96     5.96  0   8.91  0.42    680.4  1  129  0"
      ]
     },
     "execution_count": 3,
     "metadata": {},
     "output_type": "execute_result"
    }
   ],
   "source": [
    "data.head(3)\n",
    "# dataset does not have the column names\n"
   ]
  },
  {
   "cell_type": "code",
   "execution_count": 4,
   "metadata": {},
   "outputs": [],
   "source": [
    "# first column is the costumer ID so we drop it\n",
    "data=data.drop(columns=['00994'])"
   ]
  },
  {
   "cell_type": "code",
   "execution_count": 5,
   "metadata": {},
   "outputs": [
    {
     "data": {
      "text/html": [
       "<div>\n",
       "<style scoped>\n",
       "    .dataframe tbody tr th:only-of-type {\n",
       "        vertical-align: middle;\n",
       "    }\n",
       "\n",
       "    .dataframe tbody tr th {\n",
       "        vertical-align: top;\n",
       "    }\n",
       "\n",
       "    .dataframe thead th {\n",
       "        text-align: right;\n",
       "    }\n",
       "</style>\n",
       "<table border=\"1\" class=\"dataframe\">\n",
       "  <thead>\n",
       "    <tr style=\"text-align: right;\">\n",
       "      <th></th>\n",
       "      <th>a0</th>\n",
       "      <th>a1</th>\n",
       "      <th>a2</th>\n",
       "      <th>a3</th>\n",
       "      <th>a4</th>\n",
       "      <th>a5</th>\n",
       "      <th>a6</th>\n",
       "      <th>a7</th>\n",
       "      <th>a8</th>\n",
       "      <th>a9</th>\n",
       "      <th>a10</th>\n",
       "    </tr>\n",
       "  </thead>\n",
       "  <tbody>\n",
       "    <tr>\n",
       "      <th>0</th>\n",
       "      <td>2160.0</td>\n",
       "      <td>2160</td>\n",
       "      <td>5.33</td>\n",
       "      <td>5.33</td>\n",
       "      <td>0</td>\n",
       "      <td>8.91</td>\n",
       "      <td>0.00</td>\n",
       "      <td>0.0</td>\n",
       "      <td>0</td>\n",
       "      <td>0</td>\n",
       "      <td>0</td>\n",
       "    </tr>\n",
       "    <tr>\n",
       "      <th>1</th>\n",
       "      <td>2160.0</td>\n",
       "      <td>2160</td>\n",
       "      <td>5.33</td>\n",
       "      <td>5.33</td>\n",
       "      <td>0</td>\n",
       "      <td>8.91</td>\n",
       "      <td>0.00</td>\n",
       "      <td>0.0</td>\n",
       "      <td>0</td>\n",
       "      <td>388</td>\n",
       "      <td>0</td>\n",
       "    </tr>\n",
       "    <tr>\n",
       "      <th>2</th>\n",
       "      <td>1620.0</td>\n",
       "      <td>1620</td>\n",
       "      <td>5.96</td>\n",
       "      <td>5.96</td>\n",
       "      <td>0</td>\n",
       "      <td>8.91</td>\n",
       "      <td>0.42</td>\n",
       "      <td>680.4</td>\n",
       "      <td>1</td>\n",
       "      <td>129</td>\n",
       "      <td>0</td>\n",
       "    </tr>\n",
       "  </tbody>\n",
       "</table>\n",
       "</div>"
      ],
      "text/plain": [
       "       a0    a1    a2    a3  a4    a5    a6     a7  a8   a9  a10\n",
       "0  2160.0  2160  5.33  5.33   0  8.91  0.00    0.0   0    0    0\n",
       "1  2160.0  2160  5.33  5.33   0  8.91  0.00    0.0   0  388    0\n",
       "2  1620.0  1620  5.96  5.96   0  8.91  0.42  680.4   1  129    0"
      ]
     },
     "execution_count": 5,
     "metadata": {},
     "output_type": "execute_result"
    }
   ],
   "source": [
    "l1=[]\n",
    "l2=[]\n",
    "data2=pd.DataFrame()\n",
    "for i in range(len(data.columns)):\n",
    "    l1.append('a{}'.format(i))\n",
    "    l2.append(list(data.iloc[:,i]))\n",
    "    data2[l1[i]]=l2[i]\n",
    "\n",
    "data2.head(3)"
   ]
  },
  {
   "cell_type": "code",
   "execution_count": 6,
   "metadata": {},
   "outputs": [
    {
     "data": {
      "text/plain": [
       "<seaborn.axisgrid.FacetGrid at 0x29f38464888>"
      ]
     },
     "execution_count": 6,
     "metadata": {},
     "output_type": "execute_result"
    },
    {
     "data": {
      "image/png": "[encoded data removed]",
      "text/plain": [
       "<Figure size 360x360 with 1 Axes>"
      ]
     },
     "metadata": {
      "needs_background": "light"
     },
     "output_type": "display_data"
    }
   ],
   "source": [
    "# column a10 is the target feature for binary classification\n",
    "sns.displot(data2['a10'])"
   ]
  },
  {
   "cell_type": "code",
   "execution_count": 7,
   "metadata": {},
   "outputs": [
    {
     "name": "stdout",
     "output_type": "stream",
     "text": [
      "5.2954850245865\n"
     ]
    }
   ],
   "source": [
    "# How many times we should copy the class 1 to make a balance data set??\n",
    "portion=(len(data2['a10'])-data2['a10'].sum())/data2['a10'].sum()\n",
    "print(portion)"
   ]
  },
  {
   "cell_type": "code",
   "execution_count": 8,
   "metadata": {},
   "outputs": [
    {
     "data": {
      "text/html": [
       "<div>\n",
       "<style scoped>\n",
       "    .dataframe tbody tr th:only-of-type {\n",
       "        vertical-align: middle;\n",
       "    }\n",
       "\n",
       "    .dataframe tbody tr th {\n",
       "        vertical-align: top;\n",
       "    }\n",
       "\n",
       "    .dataframe thead th {\n",
       "        text-align: right;\n",
       "    }\n",
       "</style>\n",
       "<table border=\"1\" class=\"dataframe\">\n",
       "  <thead>\n",
       "    <tr style=\"text-align: right;\">\n",
       "      <th></th>\n",
       "      <th>a0</th>\n",
       "      <th>a1</th>\n",
       "      <th>a2</th>\n",
       "      <th>a3</th>\n",
       "      <th>a4</th>\n",
       "      <th>a5</th>\n",
       "      <th>a6</th>\n",
       "      <th>a7</th>\n",
       "      <th>a8</th>\n",
       "      <th>a9</th>\n",
       "      <th>a10</th>\n",
       "    </tr>\n",
       "  </thead>\n",
       "  <tbody>\n",
       "    <tr>\n",
       "      <th>6</th>\n",
       "      <td>648.0</td>\n",
       "      <td>648</td>\n",
       "      <td>5.33</td>\n",
       "      <td>5.33</td>\n",
       "      <td>0</td>\n",
       "      <td>8.91</td>\n",
       "      <td>0.0</td>\n",
       "      <td>0.0</td>\n",
       "      <td>0</td>\n",
       "      <td>0</td>\n",
       "      <td>1</td>\n",
       "    </tr>\n",
       "    <tr>\n",
       "      <th>10</th>\n",
       "      <td>2160.0</td>\n",
       "      <td>2160</td>\n",
       "      <td>5.33</td>\n",
       "      <td>5.33</td>\n",
       "      <td>0</td>\n",
       "      <td>8.91</td>\n",
       "      <td>0.0</td>\n",
       "      <td>0.0</td>\n",
       "      <td>0</td>\n",
       "      <td>0</td>\n",
       "      <td>1</td>\n",
       "    </tr>\n",
       "    <tr>\n",
       "      <th>14</th>\n",
       "      <td>594.0</td>\n",
       "      <td>1188</td>\n",
       "      <td>29.33</td>\n",
       "      <td>58.67</td>\n",
       "      <td>0</td>\n",
       "      <td>10.00</td>\n",
       "      <td>0.0</td>\n",
       "      <td>0.0</td>\n",
       "      <td>0</td>\n",
       "      <td>0</td>\n",
       "      <td>1</td>\n",
       "    </tr>\n",
       "    <tr>\n",
       "      <th>21</th>\n",
       "      <td>1188.0</td>\n",
       "      <td>4752</td>\n",
       "      <td>6.00</td>\n",
       "      <td>23.99</td>\n",
       "      <td>0</td>\n",
       "      <td>10.00</td>\n",
       "      <td>0.0</td>\n",
       "      <td>0.0</td>\n",
       "      <td>0</td>\n",
       "      <td>176</td>\n",
       "      <td>1</td>\n",
       "    </tr>\n",
       "    <tr>\n",
       "      <th>23</th>\n",
       "      <td>1404.0</td>\n",
       "      <td>2808</td>\n",
       "      <td>27.99</td>\n",
       "      <td>55.99</td>\n",
       "      <td>0</td>\n",
       "      <td>8.91</td>\n",
       "      <td>0.0</td>\n",
       "      <td>0.0</td>\n",
       "      <td>0</td>\n",
       "      <td>0</td>\n",
       "      <td>1</td>\n",
       "    </tr>\n",
       "  </tbody>\n",
       "</table>\n",
       "</div>"
      ],
      "text/plain": [
       "        a0    a1     a2     a3  a4     a5   a6   a7  a8   a9  a10\n",
       "6    648.0   648   5.33   5.33   0   8.91  0.0  0.0   0    0    1\n",
       "10  2160.0  2160   5.33   5.33   0   8.91  0.0  0.0   0    0    1\n",
       "14   594.0  1188  29.33  58.67   0  10.00  0.0  0.0   0    0    1\n",
       "21  1188.0  4752   6.00  23.99   0  10.00  0.0  0.0   0  176    1\n",
       "23  1404.0  2808  27.99  55.99   0   8.91  0.0  0.0   0    0    1"
      ]
     },
     "execution_count": 8,
     "metadata": {},
     "output_type": "execute_result"
    }
   ],
   "source": [
    "# making a dataset with only_class_1\n",
    "data3=data2[data2['a10']>0]\n",
    "data3.head()"
   ]
  },
  {
   "cell_type": "code",
   "execution_count": 9,
   "metadata": {},
   "outputs": [
    {
     "data": {
      "text/html": [
       "<div>\n",
       "<style scoped>\n",
       "    .dataframe tbody tr th:only-of-type {\n",
       "        vertical-align: middle;\n",
       "    }\n",
       "\n",
       "    .dataframe tbody tr th {\n",
       "        vertical-align: top;\n",
       "    }\n",
       "\n",
       "    .dataframe thead th {\n",
       "        text-align: right;\n",
       "    }\n",
       "</style>\n",
       "<table border=\"1\" class=\"dataframe\">\n",
       "  <thead>\n",
       "    <tr style=\"text-align: right;\">\n",
       "      <th></th>\n",
       "      <th>a0</th>\n",
       "      <th>a1</th>\n",
       "      <th>a2</th>\n",
       "      <th>a3</th>\n",
       "      <th>a4</th>\n",
       "      <th>a5</th>\n",
       "      <th>a6</th>\n",
       "      <th>a7</th>\n",
       "      <th>a8</th>\n",
       "      <th>a9</th>\n",
       "      <th>a10</th>\n",
       "    </tr>\n",
       "  </thead>\n",
       "  <tbody>\n",
       "    <tr>\n",
       "      <th>0</th>\n",
       "      <td>2160.0</td>\n",
       "      <td>2160</td>\n",
       "      <td>5.33</td>\n",
       "      <td>5.33</td>\n",
       "      <td>0</td>\n",
       "      <td>8.91</td>\n",
       "      <td>0.00</td>\n",
       "      <td>0.0</td>\n",
       "      <td>0</td>\n",
       "      <td>0</td>\n",
       "      <td>0</td>\n",
       "    </tr>\n",
       "    <tr>\n",
       "      <th>1</th>\n",
       "      <td>2160.0</td>\n",
       "      <td>2160</td>\n",
       "      <td>5.33</td>\n",
       "      <td>5.33</td>\n",
       "      <td>0</td>\n",
       "      <td>8.91</td>\n",
       "      <td>0.00</td>\n",
       "      <td>0.0</td>\n",
       "      <td>0</td>\n",
       "      <td>388</td>\n",
       "      <td>0</td>\n",
       "    </tr>\n",
       "    <tr>\n",
       "      <th>2</th>\n",
       "      <td>1620.0</td>\n",
       "      <td>1620</td>\n",
       "      <td>5.96</td>\n",
       "      <td>5.96</td>\n",
       "      <td>0</td>\n",
       "      <td>8.91</td>\n",
       "      <td>0.42</td>\n",
       "      <td>680.4</td>\n",
       "      <td>1</td>\n",
       "      <td>129</td>\n",
       "      <td>0</td>\n",
       "    </tr>\n",
       "  </tbody>\n",
       "</table>\n",
       "</div>"
      ],
      "text/plain": [
       "       a0    a1    a2    a3  a4    a5    a6     a7  a8   a9  a10\n",
       "0  2160.0  2160  5.33  5.33   0  8.91  0.00    0.0   0    0    0\n",
       "1  2160.0  2160  5.33  5.33   0  8.91  0.00    0.0   0  388    0\n",
       "2  1620.0  1620  5.96  5.96   0  8.91  0.42  680.4   1  129    0"
      ]
     },
     "execution_count": 9,
     "metadata": {},
     "output_type": "execute_result"
    }
   ],
   "source": [
    "#Concatinating the main dataset with several only_class_1 dataset to make balance dataset\n",
    "concat_list=[data2]\n",
    "for i in range(int(portion-1)):\n",
    "    concat_list.append(data3)\n",
    "rest=portion-int(portion)\n",
    "concat_list.append(data3.iloc[:int(rest*len(data3['a10'])),:])\n",
    "data4=pd.concat(concat_list)\n",
    "data4.head(3)"
   ]
  },
  {
   "cell_type": "code",
   "execution_count": 10,
   "metadata": {},
   "outputs": [
    {
     "data": {
      "text/plain": [
       "<seaborn.axisgrid.FacetGrid at 0x29f39841648>"
      ]
     },
     "execution_count": 10,
     "metadata": {},
     "output_type": "execute_result"
    },
    {
     "data": {
      "image/png": "[encoded data removed]",
      "text/plain": [
       "<Figure size 360x360 with 1 Axes>"
      ]
     },
     "metadata": {
      "needs_background": "light"
     },
     "output_type": "display_data"
    }
   ],
   "source": [
    "sns.displot(data4['a10'])\n",
    "#now we have a balance dataset"
   ]
  },
  {
   "cell_type": "code",
   "execution_count": 23,
   "metadata": {},
   "outputs": [
    {
     "data": {
      "text/html": [
       "<div>\n",
       "<style scoped>\n",
       "    .dataframe tbody tr th:only-of-type {\n",
       "        vertical-align: middle;\n",
       "    }\n",
       "\n",
       "    .dataframe tbody tr th {\n",
       "        vertical-align: top;\n",
       "    }\n",
       "\n",
       "    .dataframe thead th {\n",
       "        text-align: right;\n",
       "    }\n",
       "</style>\n",
       "<table border=\"1\" class=\"dataframe\">\n",
       "  <thead>\n",
       "    <tr style=\"text-align: right;\">\n",
       "      <th></th>\n",
       "      <th>a0</th>\n",
       "      <th>a1</th>\n",
       "      <th>a2</th>\n",
       "      <th>a3</th>\n",
       "      <th>a4</th>\n",
       "      <th>a5</th>\n",
       "      <th>a6</th>\n",
       "      <th>a7</th>\n",
       "      <th>a8</th>\n",
       "      <th>a9</th>\n",
       "    </tr>\n",
       "  </thead>\n",
       "  <tbody>\n",
       "    <tr>\n",
       "      <th>0</th>\n",
       "      <td>1.207984</td>\n",
       "      <td>0.374191</td>\n",
       "      <td>-0.356535</td>\n",
       "      <td>-0.474452</td>\n",
       "      <td>-0.444175</td>\n",
       "      <td>-0.009526</td>\n",
       "      <td>-0.381210</td>\n",
       "      <td>-0.375104</td>\n",
       "      <td>-0.177073</td>\n",
       "      <td>-0.759715</td>\n",
       "    </tr>\n",
       "    <tr>\n",
       "      <th>1</th>\n",
       "      <td>1.207984</td>\n",
       "      <td>0.374191</td>\n",
       "      <td>-0.356535</td>\n",
       "      <td>-0.474452</td>\n",
       "      <td>-0.444175</td>\n",
       "      <td>-0.009526</td>\n",
       "      <td>-0.381210</td>\n",
       "      <td>-0.375104</td>\n",
       "      <td>-0.177073</td>\n",
       "      <td>3.394123</td>\n",
       "    </tr>\n",
       "    <tr>\n",
       "      <th>2</th>\n",
       "      <td>0.123924</td>\n",
       "      <td>-0.244819</td>\n",
       "      <td>-0.235850</td>\n",
       "      <td>-0.382852</td>\n",
       "      <td>-0.444175</td>\n",
       "      <td>-0.009526</td>\n",
       "      <td>1.763352</td>\n",
       "      <td>1.887209</td>\n",
       "      <td>1.948159</td>\n",
       "      <td>0.621329</td>\n",
       "    </tr>\n",
       "    <tr>\n",
       "      <th>3</th>\n",
       "      <td>1.207984</td>\n",
       "      <td>0.374191</td>\n",
       "      <td>-0.356535</td>\n",
       "      <td>-0.474452</td>\n",
       "      <td>-0.444175</td>\n",
       "      <td>-0.009526</td>\n",
       "      <td>0.742132</td>\n",
       "      <td>1.204924</td>\n",
       "      <td>-0.177073</td>\n",
       "      <td>3.105068</td>\n",
       "    </tr>\n",
       "    <tr>\n",
       "      <th>4</th>\n",
       "      <td>1.207984</td>\n",
       "      <td>0.374191</td>\n",
       "      <td>-0.494460</td>\n",
       "      <td>-0.579139</td>\n",
       "      <td>-0.444175</td>\n",
       "      <td>-0.009526</td>\n",
       "      <td>-0.381210</td>\n",
       "      <td>-0.375104</td>\n",
       "      <td>-0.177073</td>\n",
       "      <td>-0.759715</td>\n",
       "    </tr>\n",
       "  </tbody>\n",
       "</table>\n",
       "</div>"
      ],
      "text/plain": [
       "         a0        a1        a2        a3        a4        a5        a6  \\\n",
       "0  1.207984  0.374191 -0.356535 -0.474452 -0.444175 -0.009526 -0.381210   \n",
       "1  1.207984  0.374191 -0.356535 -0.474452 -0.444175 -0.009526 -0.381210   \n",
       "2  0.123924 -0.244819 -0.235850 -0.382852 -0.444175 -0.009526  1.763352   \n",
       "3  1.207984  0.374191 -0.356535 -0.474452 -0.444175 -0.009526  0.742132   \n",
       "4  1.207984  0.374191 -0.494460 -0.579139 -0.444175 -0.009526 -0.381210   \n",
       "\n",
       "         a7        a8        a9  \n",
       "0 -0.375104 -0.177073 -0.759715  \n",
       "1 -0.375104 -0.177073  3.394123  \n",
       "2  1.887209  1.948159  0.621329  \n",
       "3  1.204924 -0.177073  3.105068  \n",
       "4 -0.375104 -0.177073 -0.759715  "
      ]
     },
     "execution_count": 23,
     "metadata": {},
     "output_type": "execute_result"
    }
   ],
   "source": [
    "# Standardization (Scaling)\n",
    "scaler = preprocessing.StandardScaler()\n",
    "scaled_data = scaler.fit_transform(data4.drop(columns=['a10'])) \n",
    "df_scaled = pd.DataFrame(scaled_data, columns=data4.drop(columns=['a10']).columns,index=data4.index)\n",
    "df_scaled.head()"
   ]
  },
  {
   "cell_type": "code",
   "execution_count": 34,
   "metadata": {},
   "outputs": [],
   "source": [
    "# Shuffeling the dataset\n",
    "df_shuffled=pd.concat([df_scaled,data4['a10']],axis=1)\n",
    "df_shuffled=df_shuffled.sample(frac=0.2)"
   ]
  },
  {
   "cell_type": "code",
   "execution_count": 35,
   "metadata": {},
   "outputs": [
    {
     "data": {
      "text/html": [
       "<div>\n",
       "<style scoped>\n",
       "    .dataframe tbody tr th:only-of-type {\n",
       "        vertical-align: middle;\n",
       "    }\n",
       "\n",
       "    .dataframe tbody tr th {\n",
       "        vertical-align: top;\n",
       "    }\n",
       "\n",
       "    .dataframe thead th {\n",
       "        text-align: right;\n",
       "    }\n",
       "</style>\n",
       "<table border=\"1\" class=\"dataframe\">\n",
       "  <thead>\n",
       "    <tr style=\"text-align: right;\">\n",
       "      <th></th>\n",
       "      <th>a0</th>\n",
       "      <th>a1</th>\n",
       "      <th>a2</th>\n",
       "      <th>a3</th>\n",
       "      <th>a4</th>\n",
       "      <th>a5</th>\n",
       "      <th>a6</th>\n",
       "      <th>a7</th>\n",
       "      <th>a8</th>\n",
       "      <th>a9</th>\n",
       "      <th>a10</th>\n",
       "    </tr>\n",
       "  </thead>\n",
       "  <tbody>\n",
       "    <tr>\n",
       "      <th>4383</th>\n",
       "      <td>-0.743325</td>\n",
       "      <td>-0.740027</td>\n",
       "      <td>-0.050035</td>\n",
       "      <td>-0.241816</td>\n",
       "      <td>-0.444175</td>\n",
       "      <td>-0.009526</td>\n",
       "      <td>-0.38121</td>\n",
       "      <td>-0.375104</td>\n",
       "      <td>-0.177073</td>\n",
       "      <td>-0.759715</td>\n",
       "      <td>1</td>\n",
       "    </tr>\n",
       "    <tr>\n",
       "      <th>11432</th>\n",
       "      <td>-1.610573</td>\n",
       "      <td>-0.368621</td>\n",
       "      <td>-0.040456</td>\n",
       "      <td>0.781786</td>\n",
       "      <td>-0.444175</td>\n",
       "      <td>-0.009526</td>\n",
       "      <td>-0.38121</td>\n",
       "      <td>-0.375104</td>\n",
       "      <td>-0.177073</td>\n",
       "      <td>-0.481365</td>\n",
       "      <td>1</td>\n",
       "    </tr>\n",
       "    <tr>\n",
       "      <th>7498</th>\n",
       "      <td>1.207984</td>\n",
       "      <td>0.374191</td>\n",
       "      <td>-0.356535</td>\n",
       "      <td>-0.474452</td>\n",
       "      <td>-0.444175</td>\n",
       "      <td>-0.009526</td>\n",
       "      <td>-0.38121</td>\n",
       "      <td>-0.375104</td>\n",
       "      <td>-0.177073</td>\n",
       "      <td>-0.759715</td>\n",
       "      <td>0</td>\n",
       "    </tr>\n",
       "  </tbody>\n",
       "</table>\n",
       "</div>"
      ],
      "text/plain": [
       "             a0        a1        a2        a3        a4        a5       a6  \\\n",
       "4383  -0.743325 -0.740027 -0.050035 -0.241816 -0.444175 -0.009526 -0.38121   \n",
       "11432 -1.610573 -0.368621 -0.040456  0.781786 -0.444175 -0.009526 -0.38121   \n",
       "7498   1.207984  0.374191 -0.356535 -0.474452 -0.444175 -0.009526 -0.38121   \n",
       "\n",
       "             a7        a8        a9  a10  \n",
       "4383  -0.375104 -0.177073 -0.759715    1  \n",
       "11432 -0.375104 -0.177073 -0.481365    1  \n",
       "7498  -0.375104 -0.177073 -0.759715    0  "
      ]
     },
     "execution_count": 35,
     "metadata": {},
     "output_type": "execute_result"
    }
   ],
   "source": [
    "df_shuffled.head(3)"
   ]
  },
  {
   "cell_type": "code",
   "execution_count": 40,
   "metadata": {},
   "outputs": [],
   "source": [
    "x=df_shuffled.drop(columns=['a10'])\n",
    "y=df_shuffled['a10']"
   ]
  },
  {
   "cell_type": "code",
   "execution_count": 41,
   "metadata": {},
   "outputs": [],
   "source": [
    "x_train,x_test,y_train,y_test=model_selection.train_test_split(x,y,test_size=0.1,shuffle=False)"
   ]
  },
  {
   "cell_type": "code",
   "execution_count": 42,
   "metadata": {},
   "outputs": [
    {
     "data": {
      "text/plain": [
       "(4264, 10)"
      ]
     },
     "execution_count": 42,
     "metadata": {},
     "output_type": "execute_result"
    }
   ],
   "source": [
    "x_train.to_numpy().shape"
   ]
  },
  {
   "cell_type": "code",
   "execution_count": 43,
   "metadata": {},
   "outputs": [],
   "source": [
    "model=keras.Sequential()\n",
    "model.add(keras.Input(shape=10)) \n",
    "model.add(keras.layers.Dense(50,activation='relu'))   \n",
    "model.add(keras.layers.Dense(50,activation='relu'))  \n",
    "model.add(keras.layers.Dense(2,activation='softmax'))  \n"
   ]
  },
  {
   "cell_type": "code",
   "execution_count": 44,
   "metadata": {},
   "outputs": [],
   "source": [
    "opt=keras.optimizers.Adam(learning_rate=0.0001)\n",
    "model.compile(optimizer=opt,loss='sparse_categorical_crossentropy',metrics=['accuracy'])"
   ]
  },
  {
   "cell_type": "code",
   "execution_count": 45,
   "metadata": {},
   "outputs": [
    {
     "name": "stdout",
     "output_type": "stream",
     "text": [
      "Model: \"sequential_2\"\n",
      "_________________________________________________________________\n",
      "Layer (type)                 Output Shape              Param #   \n",
      "=================================================================\n",
      "dense_6 (Dense)              (None, 50)                550       \n",
      "_________________________________________________________________\n",
      "dense_7 (Dense)              (None, 50)                2550      \n",
      "_________________________________________________________________\n",
      "dense_8 (Dense)              (None, 2)                 102       \n",
      "=================================================================\n",
      "Total params: 3,202\n",
      "Trainable params: 3,202\n",
      "Non-trainable params: 0\n",
      "_________________________________________________________________\n"
     ]
    }
   ],
   "source": [
    "model.summary()"
   ]
  },
  {
   "cell_type": "code",
   "execution_count": 47,
   "metadata": {},
   "outputs": [],
   "source": [
    "early_stop=keras.callbacks.EarlyStopping(patience=2)"
   ]
  },
  {
   "cell_type": "code",
   "execution_count": 49,
   "metadata": {},
   "outputs": [
    {
     "name": "stdout",
     "output_type": "stream",
     "text": [
      "Epoch 1/100\n",
      "43/43 - 0s - loss: 0.3417 - accuracy: 0.8276 - val_loss: 0.3817 - val_accuracy: 0.8186\n",
      "Epoch 2/100\n",
      "43/43 - 0s - loss: 0.3414 - accuracy: 0.8283 - val_loss: 0.3802 - val_accuracy: 0.8207\n",
      "Epoch 3/100\n",
      "43/43 - 0s - loss: 0.3412 - accuracy: 0.8258 - val_loss: 0.3807 - val_accuracy: 0.8207\n",
      "Epoch 4/100\n",
      "43/43 - 0s - loss: 0.3411 - accuracy: 0.8290 - val_loss: 0.3797 - val_accuracy: 0.8186\n",
      "Epoch 5/100\n",
      "43/43 - 0s - loss: 0.3411 - accuracy: 0.8283 - val_loss: 0.3815 - val_accuracy: 0.8207\n",
      "Epoch 6/100\n",
      "43/43 - 0s - loss: 0.3406 - accuracy: 0.8295 - val_loss: 0.3796 - val_accuracy: 0.8186\n",
      "Epoch 7/100\n",
      "43/43 - 0s - loss: 0.3403 - accuracy: 0.8286 - val_loss: 0.3801 - val_accuracy: 0.8207\n",
      "Epoch 8/100\n",
      "43/43 - 0s - loss: 0.3403 - accuracy: 0.8279 - val_loss: 0.3802 - val_accuracy: 0.8186\n"
     ]
    },
    {
     "data": {
      "text/plain": [
       "<tensorflow.python.keras.callbacks.History at 0x29f3d2df148>"
      ]
     },
     "execution_count": 49,
     "metadata": {},
     "output_type": "execute_result"
    }
   ],
   "source": [
    "model.fit(x_train,y_train,batch_size=100, verbose=2,callbacks=[early_stop],\n",
    "          validation_data=(x_test,y_test),epochs=100)"
   ]
  },
  {
   "cell_type": "code",
   "execution_count": 50,
   "metadata": {},
   "outputs": [
    {
     "name": "stdout",
     "output_type": "stream",
     "text": [
      "15/15 [==============================] - 0s 1ms/step - loss: 0.3802 - accuracy: 0.8186\n"
     ]
    }
   ],
   "source": [
    "test=model.evaluate(x_test,y_test)"
   ]
  },
  {
   "cell_type": "code",
   "execution_count": 51,
   "metadata": {},
   "outputs": [
    {
     "name": "stdout",
     "output_type": "stream",
     "text": [
      "[0.3801616430282593, 0.8185654282569885]\n"
     ]
    }
   ],
   "source": [
    "print(test)"
   ]
  },
  {
   "cell_type": "code",
   "execution_count": null,
   "metadata": {},
   "outputs": [],
   "source": []
  }
 ],
 "metadata": {
  "kernelspec": {
   "display_name": "Python 3",
   "language": "python",
   "name": "python3"
  },
  "language_info": {
   "codemirror_mode": {
    "name": "ipython",
    "version": 3
   },
   "file_extension": ".py",
   "mimetype": "text/x-python",
   "name": "python",
   "nbconvert_exporter": "python",
   "pygments_lexer": "ipython3",
   "version": "3.7.6"
  }
 },
 "nbformat": 4,
 "nbformat_minor": 4
}
